{
 "cells": [
  {
   "cell_type": "code",
   "execution_count": 3,
   "metadata": {},
   "outputs": [
    {
     "name": "stdout",
     "output_type": "stream",
     "text": [
      "Populating the interactive namespace from numpy and matplotlib\n"
     ]
    }
   ],
   "source": [
    "%pylab inline"
   ]
  },
  {
   "cell_type": "code",
   "execution_count": 2,
   "metadata": {},
   "outputs": [],
   "source": [
    "# -*- coding: utf-8 -*-\n",
    "import dataiku\n",
    "import pandas as pd, numpy as np\n",
    "from dataiku import pandasutils as pdu\n",
    "\n",
    "import numpy as np\n",
    "import tensorflow as tf\n",
    "\n",
    "# Read recipe inputs\n",
    "headlines_ds = dataiku.Dataset(\"abcnews_date_text\")\n",
    "headlines = headlines_ds.get_dataframe(columns=[\"headline_text\"])[\"headline_text\"]"
   ]
  },
  {
   "cell_type": "code",
   "execution_count": 4,
   "metadata": {},
   "outputs": [
    {
     "data": {
      "text/plain": [
       "'aba decides against community broadcasting licence'"
      ]
     },
     "execution_count": 4,
     "metadata": {},
     "output_type": "execute_result"
    }
   ],
   "source": [
    "headlines[0]"
   ]
  },
  {
   "cell_type": "code",
   "execution_count": 5,
   "metadata": {},
   "outputs": [],
   "source": [
    "# this iterates over each of the headlines and creates tuples\n",
    "# for consecutive characters\n",
    "\n",
    "import itertools as it\n",
    "\n",
    "def sliding_window(txt):\n",
    "    for i in range(len(txt) - 2):\n",
    "        yield txt[i], txt[i + 1], txt[i + 2]\n",
    "\n",
    "window = list(it.chain(*[sliding_window(_) for _ in headlines[:10000]]))"
   ]
  },
  {
   "cell_type": "code",
   "execution_count": 7,
   "metadata": {},
   "outputs": [],
   "source": [
    "# window"
   ]
  },
  {
   "cell_type": "code",
   "execution_count": 8,
   "metadata": {},
   "outputs": [],
   "source": [
    "# create mapping dictionary for each character and back\n",
    "char2ix = {c: i for i, c in enumerate(pd.DataFrame(window)[0].unique())}\n",
    "ix2char = {v:k for k,v in char2ix.items()}\n",
    "\n",
    "# mapping inputs and outputs (outputs need to be different shape)\n",
    "integers_in = np.array([[char2ix[w[0]], char2ix[w[1]]] for w in window])\n",
    "integers_out = np.array([char2ix[w[2]] for w in window]).reshape(-1, 1)\n",
    "\n",
    "# total classes\n",
    "num_letters = len(char2ix) # 26 letters + 10 numbers + SPACE"
   ]
  },
  {
   "cell_type": "code",
   "execution_count": 11,
   "metadata": {},
   "outputs": [
    {
     "data": {
      "text/plain": [
       "array([[ 0,  1],\n",
       "       [ 1,  0],\n",
       "       [ 0,  2],\n",
       "       ...,\n",
       "       [ 0, 16],\n",
       "       [16, 16],\n",
       "       [16, 11]])"
      ]
     },
     "execution_count": 11,
     "metadata": {},
     "output_type": "execute_result"
    }
   ],
   "source": [
    "integers_in"
   ]
  },
  {
   "cell_type": "code",
   "execution_count": 12,
   "metadata": {},
   "outputs": [
    {
     "data": {
      "text/plain": [
       "(376880, 2, 2)"
      ]
     },
     "execution_count": 12,
     "metadata": {},
     "output_type": "execute_result"
    }
   ],
   "source": [
    "from tensorflow.keras.layers import Embedding, Dense, Flatten\n",
    "from tensorflow.keras.models import Sequential\n",
    "\n",
    "# this one is so we might grab the embeddings\n",
    "model_emb = Sequential()\n",
    "embedding = Embedding(num_letters, 2, input_length=2)\n",
    "model_emb.add(embedding)\n",
    "output_array = model_emb.predict(integers_in)\n",
    "output_array.shape"
   ]
  },
  {
   "cell_type": "code",
   "execution_count": 13,
   "metadata": {},
   "outputs": [
    {
     "name": "stdout",
     "output_type": "stream",
     "text": [
      "WARNING:tensorflow:Model was constructed with shape (None, 2) for input KerasTensor(type_spec=TensorSpec(shape=(None, 2), dtype=tf.float32, name='embedding_input'), name='embedding_input', description=\"created by layer 'embedding_input'\"), but it was called on an input with incompatible shape (None, 1).\n"
     ]
    },
    {
     "data": {
      "image/png": "[encoded data removed]",
      "text/plain": [
       "<Figure size 432x288 with 1 Axes>"
      ]
     },
     "metadata": {},
     "output_type": "display_data"
    }
   ],
   "source": [
    "import matplotlib.pylab as plt\n",
    "\n",
    "idx_to_calc = list(char2ix.values())\n",
    "idx_to_calc = np.array([idx_to_calc]).T\n",
    "\n",
    "preds = model_emb.predict(idx_to_calc)\n",
    "\n",
    "plt.scatter(preds[:, 0, 0], preds[:, 0, 1], alpha=0)\n",
    "for i, idx in enumerate(idx_to_calc):\n",
    "    plt.text(preds[i, 0, 0], preds[i, 0, 1], ix2char[idx[0]])"
   ]
  },
  {
   "cell_type": "code",
   "execution_count": 14,
   "metadata": {},
   "outputs": [
    {
     "data": {
      "text/plain": [
       "(376880, 37)"
      ]
     },
     "execution_count": 14,
     "metadata": {},
     "output_type": "execute_result"
    }
   ],
   "source": [
    "from tensorflow.keras.optimizers import Adam\n",
    "\n",
    "# this one is so we might learn the mapping\n",
    "model_pred = Sequential()\n",
    "model_pred.add(embedding)\n",
    "model_pred.add(Flatten())\n",
    "model_pred.add(Dense(num_letters, activation=\"softmax\"))\n",
    "\n",
    "adam = Adam(learning_rate=0.001, beta_1=0.9, beta_2=0.999, amsgrad=False)\n",
    "\n",
    "model_pred.compile(adam, 'categorical_crossentropy', metrics=['accuracy'])\n",
    "\n",
    "output_array = model_pred.predict(integers_in)\n",
    "output_array.shape"
   ]
  },
  {
   "cell_type": "code",
   "execution_count": 15,
   "metadata": {},
   "outputs": [
    {
     "name": "stdout",
     "output_type": "stream",
     "text": [
      "Epoch 1/15\n",
      "11778/11778 [==============================] - 14s 1ms/step - loss: 2.8285 - accuracy: 0.1810 0s - loss: 2.8304 - accura\n",
      "Epoch 2/15\n",
      "11778/11778 [==============================] - 14s 1ms/step - loss: 2.5876 - accuracy: 0.2276\n",
      "Epoch 3/15\n",
      "11778/11778 [==============================] - 18s 2ms/step - loss: 2.5770 - accuracy: 0.2297\n",
      "Epoch 4/15\n",
      "11778/11778 [==============================] - 14s 1ms/step - loss: 2.5729 - accuracy: 0.2306\n",
      "Epoch 5/15\n",
      "11778/11778 [==============================] - 13s 1ms/step - loss: 2.5719 - accuracy: 0.2282\n",
      "Epoch 6/15\n",
      "11778/11778 [==============================] - 13s 1ms/step - loss: 2.5710 - accuracy: 0.2307\n",
      "Epoch 7/15\n",
      "11778/11778 [==============================] - 12s 981us/step - loss: 2.5716 - accuracy: 0.2290\n",
      "Epoch 8/15\n",
      "11778/11778 [==============================] - 12s 1ms/step - loss: 2.5690 - accuracy: 0.2302\n",
      "Epoch 9/15\n",
      "11778/11778 [==============================] - 9s 790us/step - loss: 2.5693 - accuracy: 0.2315\n",
      "Epoch 10/15\n",
      "11778/11778 [==============================] - 9s 761us/step - loss: 2.5664 - accuracy: 0.2306\n",
      "Epoch 11/15\n",
      "11778/11778 [==============================] - 9s 743us/step - loss: 2.5676 - accuracy: 0.2289\n",
      "Epoch 12/15\n",
      "11778/11778 [==============================] - 9s 751us/step - loss: 2.5659 - accuracy: 0.2297\n",
      "Epoch 13/15\n",
      "11778/11778 [==============================] - 15s 1ms/step - loss: 2.5677 - accuracy: 0.2308\n",
      "Epoch 14/15\n",
      "11778/11778 [==============================] - 10s 807us/step - loss: 2.5666 - accuracy: 0.2306\n",
      "Epoch 15/15\n",
      "11778/11778 [==============================] - 13s 1ms/step - loss: 2.5626 - accuracy: 0.2296\n"
     ]
    },
    {
     "data": {
      "text/plain": [
       "<tensorflow.python.keras.callbacks.History at 0x7fe5ec4a9518>"
      ]
     },
     "execution_count": 15,
     "metadata": {},
     "output_type": "execute_result"
    }
   ],
   "source": [
    "from sklearn.preprocessing import OneHotEncoder\n",
    "\n",
    "to_predict = OneHotEncoder(sparse=False).fit_transform(integers_out)\n",
    "model_pred.fit(integers_in, to_predict, epochs=15, verbose=1)"
   ]
  },
  {
   "cell_type": "code",
   "execution_count": 16,
   "metadata": {},
   "outputs": [
    {
     "data": {
      "image/png": "[encoded data removed]",
      "text/plain": [
       "<Figure size 432x288 with 1 Axes>"
      ]
     },
     "metadata": {},
     "output_type": "display_data"
    }
   ],
   "source": [
    "preds = model_emb.predict(idx_to_calc)\n",
    "plt.scatter(preds[:, 0, 0], preds[:, 0, 1], alpha=0)\n",
    "for i, idx in enumerate(idx_to_calc):\n",
    "    plt.text(preds[i, 0, 0], preds[i, 0, 1], ix2char[idx[0]])"
   ]
  },
  {
   "cell_type": "code",
   "execution_count": 17,
   "metadata": {},
   "outputs": [
    {
     "name": "stdout",
     "output_type": "stream",
     "text": [
      "37 rows successfully written (ytnR393Jyb)\n"
     ]
    }
   ],
   "source": [
    "data = list(zip(list(char2ix.keys()), np.squeeze(preds).tolist()))\n",
    "df = pd.DataFrame(columns=[\"char\", \"embedding\"], data=data)\n",
    "\n",
    "ds = dataiku.Dataset(\"embeddings_two_letters\")\n",
    "ds.write_with_schema(df)"
   ]
  },
  {
   "cell_type": "code",
   "execution_count": 20,
   "metadata": {},
   "outputs": [
    {
     "name": "stdout",
     "output_type": "stream",
     "text": [
      "WARNING:tensorflow:Model was constructed with shape (None, 2) for input KerasTensor(type_spec=TensorSpec(shape=(None, 2), dtype=tf.float32, name='embedding_input'), name='embedding_input', description=\"created by layer 'embedding_input'\"), but it was called on an input with incompatible shape (None, 1).\n"
     ]
    },
    {
     "data": {
      "text/plain": [
       "array([[[ 0.32116243,  0.44502077]],\n",
       "\n",
       "       [[ 0.84703153, -1.1136465 ]]], dtype=float32)"
      ]
     },
     "execution_count": 20,
     "metadata": {},
     "output_type": "execute_result"
    }
   ],
   "source": [
    "ab = np.array([ 0,  1])\n",
    "model_emb.predict(ab)"
   ]
  },
  {
   "cell_type": "code",
   "execution_count": 21,
   "metadata": {},
   "outputs": [],
   "source": [
    "# ix2char"
   ]
  },
  {
   "cell_type": "code",
   "execution_count": null,
   "metadata": {},
   "outputs": [],
   "source": []
  }
 ],
 "metadata": {
  "associatedRecipe": "compute_embeddings_two_letters",
  "creator": "admin",
  "customFields": {},
  "kernelspec": {
   "display_name": "Python (env embeddings)",
   "language": "python",
   "name": "py-dku-venv-embeddings"
  },
  "language_info": {
   "codemirror_mode": {
    "name": "ipython",
    "version": 3
   },
   "file_extension": ".py",
   "mimetype": "text/x-python",
   "name": "python",
   "nbconvert_exporter": "python",
   "pygments_lexer": "ipython3",
   "version": "3.6.7"
  },
  "tags": [
   "recipe-editor"
  ]
 },
 "nbformat": 4,
 "nbformat_minor": 1
}
